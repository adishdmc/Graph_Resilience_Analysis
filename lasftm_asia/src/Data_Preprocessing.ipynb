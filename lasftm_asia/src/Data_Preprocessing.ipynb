{
 "cells": [
  {
   "cell_type": "markdown",
   "metadata": {},
   "source": [
    "Importing Required Libraries"
   ]
  },
  {
   "cell_type": "code",
   "execution_count": 5,
   "metadata": {},
   "outputs": [],
   "source": [
    "import networkx as nx\n",
    "import pandas as pd\n"
   ]
  },
  {
   "cell_type": "markdown",
   "metadata": {},
   "source": [
    "Load LastFM Data "
   ]
  },
  {
   "cell_type": "code",
   "execution_count": 6,
   "metadata": {},
   "outputs": [
    {
     "name": "stdout",
     "output_type": "stream",
     "text": [
      "LastFM Network Loaded. Number of nodes: 7624\n",
      "LastFM Network Loaded. Number of edges: 27806\n"
     ]
    }
   ],
   "source": [
    "def load_lastfm_data(edge_file, target_file):\n",
    "    \"\"\"\n",
    "    Load the LastFM dataset.\n",
    "\n",
    "    Parameters:\n",
    "    edge_file (str): Path to the file containing the edges of the LastFM network.\n",
    "    target_file (str): Path to the file containing the target labels of the nodes.\n",
    "\n",
    "    Returns:\n",
    "    G (networkx.Graph): The LastFM network graph.\n",
    "    targets (pandas.DataFrame): DataFrame of node targets.\n",
    "    \"\"\"\n",
    "    # Load the edges into a DataFrame\n",
    "    edges = pd.read_csv(edge_file)\n",
    "    \n",
    "    # Create the network graph from the edge DataFrame\n",
    "    G = nx.from_pandas_edgelist(edges, source='node_1', target='node_2')\n",
    "    \n",
    "    # Load the target labels into a DataFrame\n",
    "    targets = pd.read_csv(target_file)\n",
    "    \n",
    "    return G, targets\n",
    "\n",
    "# Load the LastFM data\n",
    "lastfm_graph, lastfm_targets = load_lastfm_data('data/lastfm_asia_edges.csv', 'data/lastfm_asia_target.csv')\n",
    "print(\"LastFM Network Loaded. Number of nodes:\", lastfm_graph.number_of_nodes())\n",
    "print(\"LastFM Network Loaded. Number of edges:\", lastfm_graph.number_of_edges())\n"
   ]
  },
  {
   "cell_type": "markdown",
   "metadata": {},
   "source": [
    "Remove Isolated Nodes"
   ]
  },
  {
   "cell_type": "code",
   "execution_count": 7,
   "metadata": {},
   "outputs": [
    {
     "name": "stdout",
     "output_type": "stream",
     "text": [
      "Isolated nodes removed. Number of nodes: 7624\n"
     ]
    }
   ],
   "source": [
    "def remove_isolated_nodes(G):\n",
    "    \"\"\"\n",
    "    Remove isolated nodes from the graph.\n",
    "\n",
    "    Parameters:\n",
    "    G (networkx.Graph): The network graph.\n",
    "\n",
    "    Returns:\n",
    "    G (networkx.Graph): The graph without isolated nodes.\n",
    "    \"\"\"\n",
    "    isolated_nodes = list(nx.isolates(G))\n",
    "    G.remove_nodes_from(isolated_nodes)\n",
    "    return G\n",
    "\n",
    "# Remove isolated nodes from the graph\n",
    "lastfm_graph = remove_isolated_nodes(lastfm_graph)\n",
    "print(\"Isolated nodes removed. Number of nodes:\", lastfm_graph.number_of_nodes())\n"
   ]
  },
  {
   "cell_type": "markdown",
   "metadata": {},
   "source": [
    "Calculate Graph Statistics "
   ]
  },
  {
   "cell_type": "code",
   "execution_count": 8,
   "metadata": {},
   "outputs": [
    {
     "name": "stdout",
     "output_type": "stream",
     "text": [
      "LastFM Network Statistics: {'number_of_nodes': 7624, 'number_of_edges': 27806, 'average_degree': 7.2943336831059815, 'density': 0.0009568849118596328, 'average_clustering_coefficient': 0.2194184243270858}\n"
     ]
    }
   ],
   "source": [
    "def calculate_graph_statistics(G):\n",
    "    \"\"\"\n",
    "    Calculate basic statistics of the graph.\n",
    "\n",
    "    Parameters:\n",
    "    G (networkx.Graph): The network graph.\n",
    "\n",
    "    Returns:\n",
    "    stats (dict): Dictionary containing basic graph statistics.\n",
    "    \"\"\"\n",
    "    stats = {\n",
    "        'number_of_nodes': G.number_of_nodes(),\n",
    "        'number_of_edges': G.number_of_edges(),\n",
    "        'average_degree': sum(dict(G.degree()).values()) / G.number_of_nodes(),\n",
    "        'density': nx.density(G),\n",
    "        'average_clustering_coefficient': nx.average_clustering(G)\n",
    "    }\n",
    "    return stats\n",
    "\n",
    "# Calculate and print basic graph statistics\n",
    "lastfm_stats = calculate_graph_statistics(lastfm_graph)\n",
    "print(\"LastFM Network Statistics:\", lastfm_stats)\n"
   ]
  },
  {
   "cell_type": "markdown",
   "metadata": {},
   "source": [
    "Normalize Node Features"
   ]
  },
  {
   "cell_type": "code",
   "execution_count": 1,
   "metadata": {},
   "outputs": [
    {
     "ename": "NameError",
     "evalue": "name 'lastfm_graph' is not defined",
     "output_type": "error",
     "traceback": [
      "\u001b[0;31m---------------------------------------------------------------------------\u001b[0m",
      "\u001b[0;31mNameError\u001b[0m                                 Traceback (most recent call last)",
      "Cell \u001b[0;32mIn[1], line 26\u001b[0m\n\u001b[1;32m     23\u001b[0m     \u001b[38;5;28;01mreturn\u001b[39;00m features\n\u001b[1;32m     25\u001b[0m \u001b[38;5;66;03m# Normalize node features and save to a CSV file\u001b[39;00m\n\u001b[0;32m---> 26\u001b[0m lastfm_features \u001b[38;5;241m=\u001b[39m normalize_node_features(\u001b[43mlastfm_graph\u001b[49m)\n\u001b[1;32m     27\u001b[0m lastfm_features\u001b[38;5;241m.\u001b[39mto_csv(\u001b[38;5;124m'\u001b[39m\u001b[38;5;124mdata/lastfm_node_features.csv\u001b[39m\u001b[38;5;124m'\u001b[39m, index\u001b[38;5;241m=\u001b[39m\u001b[38;5;28;01mFalse\u001b[39;00m)\n\u001b[1;32m     28\u001b[0m \u001b[38;5;28mprint\u001b[39m(\u001b[38;5;124m\"\u001b[39m\u001b[38;5;124mNode features normalized and saved to \u001b[39m\u001b[38;5;124m'\u001b[39m\u001b[38;5;124mdata/lastfm_node_features.csv\u001b[39m\u001b[38;5;124m'\u001b[39m\u001b[38;5;124m.\u001b[39m\u001b[38;5;124m\"\u001b[39m)\n",
      "\u001b[0;31mNameError\u001b[0m: name 'lastfm_graph' is not defined"
     ]
    }
   ],
   "source": [
    "def normalize_node_features(G):\n",
    "    \"\"\"\n",
    "    Normalize node features (degree, clustering coefficient).\n",
    "\n",
    "    Parameters:\n",
    "    G (networkx.Graph): The network graph.\n",
    "\n",
    "    Returns:\n",
    "    features (pd.DataFrame): DataFrame containing normalized node features.\n",
    "    \"\"\"\n",
    "    degrees = dict(G.degree())\n",
    "    clustering_coeffs = nx.clustering(G)\n",
    "\n",
    "    features = pd.DataFrame({\n",
    "        'node': list(G.nodes()),\n",
    "        'degree': [degrees[node] for node in G.nodes()],\n",
    "        'clustering_coefficient': [clustering_coeffs[node] for node in G.nodes()]\n",
    "    })\n",
    "\n",
    "    features['degree'] = (features['degree'] - features['degree'].mean()) / features['degree'].std()\n",
    "    features['clustering_coefficient'] = (features['clustering_coefficient'] - features['clustering_coefficient'].mean()) / features['clustering_coefficient'].std()\n",
    "    \n",
    "    return features\n",
    "\n",
    "# Normalize node features and save to a CSV file\n",
    "lastfm_features = normalize_node_features(lastfm_graph)\n",
    "lastfm_features.to_csv('data/lastfm_node_features.csv', index=False)\n",
    "print(\"Node features normalized and saved to 'data/lastfm_node_features.csv'.\")\n"
   ]
  },
  {
   "cell_type": "markdown",
   "metadata": {},
   "source": [
    "Save Preprocessed Data"
   ]
  },
  {
   "cell_type": "code",
   "execution_count": 10,
   "metadata": {},
   "outputs": [
    {
     "name": "stdout",
     "output_type": "stream",
     "text": [
      "LastFM dataset preprocessing completed. Graph saved to 'data/lastfm_graph.gml' and targets saved to 'data/lastfm_targets_processed.csv'.\n"
     ]
    }
   ],
   "source": [
    "# Save the preprocessed graph and targets\n",
    "nx.write_gml(lastfm_graph, 'data/lastfm_graph.gml')\n",
    "lastfm_targets.to_csv('data/lastfm_targets_processed.csv', index=False)\n",
    "\n",
    "print(\"LastFM dataset preprocessing completed. Graph saved to 'data/lastfm_graph.gml' and targets saved to 'data/lastfm_targets_processed.csv'.\")\n"
   ]
  }
 ],
 "metadata": {
  "kernelspec": {
   "display_name": "graphmining",
   "language": "python",
   "name": "python3"
  },
  "language_info": {
   "codemirror_mode": {
    "name": "ipython",
    "version": 3
   },
   "file_extension": ".py",
   "mimetype": "text/x-python",
   "name": "python",
   "nbconvert_exporter": "python",
   "pygments_lexer": "ipython3",
   "version": "3.11.9"
  }
 },
 "nbformat": 4,
 "nbformat_minor": 2
}
