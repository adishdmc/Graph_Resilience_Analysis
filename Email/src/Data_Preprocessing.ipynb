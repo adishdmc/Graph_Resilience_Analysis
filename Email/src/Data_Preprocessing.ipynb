{
 "cells": [
  {
   "cell_type": "markdown",
   "metadata": {},
   "source": [
    "Importing Required Libraries"
   ]
  },
  {
   "cell_type": "code",
   "execution_count": 5,
   "metadata": {},
   "outputs": [],
   "source": [
    "import networkx as nx\n",
    "import pandas as pd\n",
    "import json\n"
   ]
  },
  {
   "cell_type": "markdown",
   "metadata": {},
   "source": [
    " Load Email Data "
   ]
  },
  {
   "cell_type": "code",
   "execution_count": 6,
   "metadata": {},
   "outputs": [
    {
     "name": "stdout",
     "output_type": "stream",
     "text": [
      "Email Network Loaded. Number of nodes: 1005\n",
      "Email Network Loaded. Number of edges: 16706\n"
     ]
    }
   ],
   "source": [
    "def load_email_data(edge_file, label_file):\n",
    "    \"\"\"\n",
    "    Load the email dataset and the department labels.\n",
    "\n",
    "    Parameters:\n",
    "    edge_file (str): Path to the file containing the edges of the email network.\n",
    "    label_file (str): Path to the file containing the department labels of the nodes.\n",
    "\n",
    "    Returns:\n",
    "    G (networkx.Graph): The email network graph.\n",
    "    labels (dict): Dictionary of node labels.\n",
    "    \"\"\"\n",
    "    # Load the email network graph from the edge file\n",
    "    G = nx.read_edgelist(edge_file, delimiter=' ', nodetype=int)\n",
    "    \n",
    "    # Load the department labels\n",
    "    labels = {}\n",
    "    with open(label_file) as f:\n",
    "        for line in f:\n",
    "            node, label = map(int, line.strip().split())\n",
    "            labels[node] = label\n",
    "    \n",
    "    return G, labels\n",
    "\n",
    "# Load the email data\n",
    "email_graph, email_labels = load_email_data('data/email-Eu-core.txt', 'data/email-Eu-core-department-labels.txt')\n",
    "print(\"Email Network Loaded. Number of nodes:\", email_graph.number_of_nodes())\n",
    "print(\"Email Network Loaded. Number of edges:\", email_graph.number_of_edges())\n"
   ]
  },
  {
   "cell_type": "markdown",
   "metadata": {},
   "source": [
    "Remove Self-Loops "
   ]
  },
  {
   "cell_type": "code",
   "execution_count": 7,
   "metadata": {},
   "outputs": [
    {
     "name": "stdout",
     "output_type": "stream",
     "text": [
      "Self-loops removed. Number of edges: 16064\n"
     ]
    }
   ],
   "source": [
    "def remove_self_loops(G):\n",
    "    \"\"\"\n",
    "    Remove self-loops from the graph.\n",
    "\n",
    "    Parameters:\n",
    "    G (networkx.Graph): The network graph.\n",
    "\n",
    "    Returns:\n",
    "    G (networkx.Graph): The graph without self-loops.\n",
    "    \"\"\"\n",
    "    G.remove_edges_from(nx.selfloop_edges(G))\n",
    "    return G\n",
    "\n",
    "# Remove self-loops from the graph\n",
    "email_graph = remove_self_loops(email_graph)\n",
    "print(\"Self-loops removed. Number of edges:\", email_graph.number_of_edges())\n"
   ]
  },
  {
   "cell_type": "markdown",
   "metadata": {},
   "source": [
    "Remove Isolated Nodes"
   ]
  },
  {
   "cell_type": "code",
   "execution_count": 8,
   "metadata": {},
   "outputs": [
    {
     "name": "stdout",
     "output_type": "stream",
     "text": [
      "Isolated nodes removed. Number of nodes: 986\n"
     ]
    }
   ],
   "source": [
    "def remove_isolated_nodes(G):\n",
    "    \"\"\"\n",
    "    Remove isolated nodes from the graph.\n",
    "\n",
    "    Parameters:\n",
    "    G (networkx.Graph): The network graph.\n",
    "\n",
    "    Returns:\n",
    "    G (networkx.Graph): The graph without isolated nodes.\n",
    "    \"\"\"\n",
    "    isolated_nodes = list(nx.isolates(G))\n",
    "    G.remove_nodes_from(isolated_nodes)\n",
    "    return G\n",
    "\n",
    "# Remove isolated nodes from the graph\n",
    "email_graph = remove_isolated_nodes(email_graph)\n",
    "print(\"Isolated nodes removed. Number of nodes:\", email_graph.number_of_nodes())\n"
   ]
  },
  {
   "cell_type": "markdown",
   "metadata": {},
   "source": [
    " Calculate Graph Statistics"
   ]
  },
  {
   "cell_type": "code",
   "execution_count": 9,
   "metadata": {},
   "outputs": [
    {
     "name": "stdout",
     "output_type": "stream",
     "text": [
      "Email Network Statistics: {'number_of_nodes': 986, 'number_of_edges': 16064, 'average_degree': 32.5841784989858, 'density': 0.033080384262929745, 'average_clustering_coefficient': 0.40705044751953817}\n"
     ]
    }
   ],
   "source": [
    "def calculate_graph_statistics(G):\n",
    "    \"\"\"\n",
    "    Calculate basic statistics of the graph.\n",
    "\n",
    "    Parameters:\n",
    "    G (networkx.Graph): The network graph.\n",
    "\n",
    "    Returns:\n",
    "    stats (dict): Dictionary containing basic graph statistics.\n",
    "    \"\"\"\n",
    "    stats = {\n",
    "        'number_of_nodes': G.number_of_nodes(),\n",
    "        'number_of_edges': G.number_of_edges(),\n",
    "        'average_degree': sum(dict(G.degree()).values()) / G.number_of_nodes(),\n",
    "        'density': nx.density(G),\n",
    "        'average_clustering_coefficient': nx.average_clustering(G)\n",
    "    }\n",
    "    return stats\n",
    "\n",
    "# Calculate and print basic graph statistics\n",
    "email_stats = calculate_graph_statistics(email_graph)\n",
    "print(\"Email Network Statistics:\", email_stats)\n"
   ]
  },
  {
   "cell_type": "markdown",
   "metadata": {},
   "source": [
    "Normalize Node Features "
   ]
  },
  {
   "cell_type": "code",
   "execution_count": 10,
   "metadata": {},
   "outputs": [
    {
     "name": "stdout",
     "output_type": "stream",
     "text": [
      "Node features normalized and saved to 'data/email_node_features.csv'.\n"
     ]
    }
   ],
   "source": [
    "def normalize_node_features(G):\n",
    "    \"\"\"\n",
    "    Normalize node features (degree, clustering coefficient).\n",
    "\n",
    "    Parameters:\n",
    "    G (networkx.Graph): The network graph.\n",
    "\n",
    "    Returns:\n",
    "    features (pd.DataFrame): DataFrame containing normalized node features.\n",
    "    \"\"\"\n",
    "    degrees = dict(G.degree())\n",
    "    clustering_coeffs = nx.clustering(G)\n",
    "\n",
    "    features = pd.DataFrame({\n",
    "        'node': list(G.nodes()),\n",
    "        'degree': [degrees[node] for node in G.nodes()],\n",
    "        'clustering_coefficient': [clustering_coeffs[node] for node in G.nodes()]\n",
    "    })\n",
    "\n",
    "    features['degree'] = (features['degree'] - features['degree'].mean()) / features['degree'].std()\n",
    "    features['clustering_coefficient'] = (features['clustering_coefficient'] - features['clustering_coefficient'].mean()) / features['clustering_coefficient'].std()\n",
    "    \n",
    "    return features\n",
    "\n",
    "# Normalize node features and save to a CSV file\n",
    "email_features = normalize_node_features(email_graph)\n",
    "email_features.to_csv('data/email_node_features.csv', index=False)\n",
    "print(\"Node features normalized and saved to 'data/email_node_features.csv'.\")\n"
   ]
  },
  {
   "cell_type": "markdown",
   "metadata": {},
   "source": [
    "Save Preprocessed Data"
   ]
  },
  {
   "cell_type": "code",
   "execution_count": 11,
   "metadata": {},
   "outputs": [
    {
     "name": "stdout",
     "output_type": "stream",
     "text": [
      "Email dataset preprocessing completed. Graph saved to 'data/email_graph.gml' and labels saved to 'data/email_labels.json'.\n"
     ]
    }
   ],
   "source": [
    "# Save the preprocessed graph and labels\n",
    "nx.write_gml(email_graph, 'data/email_graph.gml')\n",
    "with open('data/email_labels.json', 'w') as f:\n",
    "    json.dump(email_labels, f)\n",
    "    \n",
    "print(\"Email dataset preprocessing completed. Graph saved to 'data/email_graph.gml' and labels saved to 'data/email_labels.json'.\")\n"
   ]
  },
  {
   "cell_type": "code",
   "execution_count": null,
   "metadata": {},
   "outputs": [],
   "source": []
  }
 ],
 "metadata": {
  "kernelspec": {
   "display_name": "graphmining",
   "language": "python",
   "name": "python3"
  },
  "language_info": {
   "codemirror_mode": {
    "name": "ipython",
    "version": 3
   },
   "file_extension": ".py",
   "mimetype": "text/x-python",
   "name": "python",
   "nbconvert_exporter": "python",
   "pygments_lexer": "ipython3",
   "version": "3.11.9"
  }
 },
 "nbformat": 4,
 "nbformat_minor": 2
}
